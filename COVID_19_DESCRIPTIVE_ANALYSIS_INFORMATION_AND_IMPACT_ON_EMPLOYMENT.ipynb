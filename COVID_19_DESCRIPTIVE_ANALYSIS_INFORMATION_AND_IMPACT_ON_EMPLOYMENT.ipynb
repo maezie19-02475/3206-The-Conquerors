{
  "nbformat": 4,
  "nbformat_minor": 0,
  "metadata": {
    "colab": {
      "name": "COVID-19 DESCRIPTIVE ANALYSIS: INFORMATION AND IMPACT ON EMPLOYMENT.ipynb",
      "provenance": [],
      "authorship_tag": "ABX9TyPcKh3N3XDfEdtFmmKXuXpP",
      "include_colab_link": true
    },
    "kernelspec": {
      "name": "python3",
      "display_name": "Python 3"
    },
    "language_info": {
      "name": "python"
    }
  },
  "cells": [
    {
      "cell_type": "markdown",
      "metadata": {
        "id": "view-in-github",
        "colab_type": "text"
      },
      "source": [
        "<a href=\"https://colab.research.google.com/github/maezie19-02475/ITBA-3206-The-Conquerors/blob/main/COVID_19_DESCRIPTIVE_ANALYSIS_INFORMATION_AND_IMPACT_ON_EMPLOYMENT.ipynb\" target=\"_parent\"><img src=\"https://colab.research.google.com/assets/colab-badge.svg\" alt=\"Open In Colab\"/></a>"
      ]
    },
    {
      "cell_type": "code",
      "execution_count": null,
      "metadata": {
        "id": "IEb0mdOruIhp"
      },
      "outputs": [],
      "source": [
        "COVID-19 DESCRIPTIVE ANALYSIS: INFORMATION AND IMPACT ON EMPLOYMENT"
      ]
    }
  ]
}